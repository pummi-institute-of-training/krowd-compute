{
 "cells": [
  {
   "cell_type": "code",
   "execution_count": 1,
   "metadata": {},
   "outputs": [],
   "source": [
    "import pandas as pd\n",
    "import os"
   ]
  },
  {
   "cell_type": "code",
   "execution_count": 2,
   "metadata": {},
   "outputs": [],
   "source": [
    "all_bigrams_path = '/media/krowd/Data/CrossBorderSampled/all_bigrams_sampled'"
   ]
  },
  {
   "cell_type": "code",
   "execution_count": 3,
   "metadata": {},
   "outputs": [
    {
     "data": {
      "text/plain": [
       "27"
      ]
     },
     "execution_count": 3,
     "metadata": {},
     "output_type": "execute_result"
    }
   ],
   "source": [
    "len(os.listdir(all_bigrams_path))"
   ]
  },
  {
   "cell_type": "code",
   "execution_count": 4,
   "metadata": {},
   "outputs": [
    {
     "data": {
      "text/html": [
       "<div>\n",
       "<style scoped>\n",
       "    .dataframe tbody tr th:only-of-type {\n",
       "        vertical-align: middle;\n",
       "    }\n",
       "\n",
       "    .dataframe tbody tr th {\n",
       "        vertical-align: top;\n",
       "    }\n",
       "\n",
       "    .dataframe thead th {\n",
       "        text-align: right;\n",
       "    }\n",
       "</style>\n",
       "<table border=\"1\" class=\"dataframe\">\n",
       "  <thead>\n",
       "    <tr style=\"text-align: right;\">\n",
       "      <th></th>\n",
       "      <th>id</th>\n",
       "      <th>token_list</th>\n",
       "    </tr>\n",
       "  </thead>\n",
       "  <tbody>\n",
       "  </tbody>\n",
       "</table>\n",
       "</div>"
      ],
      "text/plain": [
       "Empty DataFrame\n",
       "Columns: [id, token_list]\n",
       "Index: []"
      ]
     },
     "execution_count": 4,
     "metadata": {},
     "output_type": "execute_result"
    }
   ],
   "source": [
    "df = pd.DataFrame(columns=['id','token_list'])\n",
    "df.head()"
   ]
  },
  {
   "cell_type": "code",
   "execution_count": 5,
   "metadata": {},
   "outputs": [],
   "source": [
    "for file in os.listdir(all_bigrams_path):\n",
    "    id = file.replace(\"entity_\",\"\")\n",
    "    id = id.replace('.txt','')\n",
    "    with open(os.path.join(all_bigrams_path,file),'r') as f:\n",
    "        #tokens_dict[id]= f.read().split()\n",
    "        df = df.append({'id':id,'token_list':f.read().split()},ignore_index=True)\n",
    "    "
   ]
  },
  {
   "cell_type": "code",
   "execution_count": 6,
   "metadata": {},
   "outputs": [
    {
     "name": "stdout",
     "output_type": "stream",
     "text": [
      "(27, 2)\n"
     ]
    },
    {
     "data": {
      "text/html": [
       "<div>\n",
       "<style scoped>\n",
       "    .dataframe tbody tr th:only-of-type {\n",
       "        vertical-align: middle;\n",
       "    }\n",
       "\n",
       "    .dataframe tbody tr th {\n",
       "        vertical-align: top;\n",
       "    }\n",
       "\n",
       "    .dataframe thead th {\n",
       "        text-align: right;\n",
       "    }\n",
       "</style>\n",
       "<table border=\"1\" class=\"dataframe\">\n",
       "  <thead>\n",
       "    <tr style=\"text-align: right;\">\n",
       "      <th></th>\n",
       "      <th>id</th>\n",
       "      <th>token_list</th>\n",
       "    </tr>\n",
       "  </thead>\n",
       "  <tbody>\n",
       "    <tr>\n",
       "      <th>0</th>\n",
       "      <td>service_1549654281612y5o71a9qjpa</td>\n",
       "      <td>[place, just, food_available, luckily, padding...</td>\n",
       "    </tr>\n",
       "    <tr>\n",
       "      <th>1</th>\n",
       "      <td>service_0599883f41aa4839969147cf8f06d87a</td>\n",
       "      <td>[awesome, ok, hardly, oily, big, north_indian,...</td>\n",
       "    </tr>\n",
       "    <tr>\n",
       "      <th>2</th>\n",
       "      <td>service_08876b7cbfc24623a18c41ee00c48cfc</td>\n",
       "      <td>[newly, khawaneej, wala, food, surrounding, al...</td>\n",
       "    </tr>\n",
       "    <tr>\n",
       "      <th>3</th>\n",
       "      <td>service_1549650011117igv4b8hkuhp</td>\n",
       "      <td>[promptly_then, fact_good, bread_fresh, person...</td>\n",
       "    </tr>\n",
       "    <tr>\n",
       "      <th>4</th>\n",
       "      <td>service_1549650327042ssjmpgyvood</td>\n",
       "      <td>[2, flexibility, kevin, business_meeting, dinn...</td>\n",
       "    </tr>\n",
       "  </tbody>\n",
       "</table>\n",
       "</div>"
      ],
      "text/plain": [
       "                                         id  \\\n",
       "0          service_1549654281612y5o71a9qjpa   \n",
       "1  service_0599883f41aa4839969147cf8f06d87a   \n",
       "2  service_08876b7cbfc24623a18c41ee00c48cfc   \n",
       "3          service_1549650011117igv4b8hkuhp   \n",
       "4          service_1549650327042ssjmpgyvood   \n",
       "\n",
       "                                          token_list  \n",
       "0  [place, just, food_available, luckily, padding...  \n",
       "1  [awesome, ok, hardly, oily, big, north_indian,...  \n",
       "2  [newly, khawaneej, wala, food, surrounding, al...  \n",
       "3  [promptly_then, fact_good, bread_fresh, person...  \n",
       "4  [2, flexibility, kevin, business_meeting, dinn...  "
      ]
     },
     "execution_count": 6,
     "metadata": {},
     "output_type": "execute_result"
    }
   ],
   "source": [
    "print(df.shape)\n",
    "df.head()"
   ]
  },
  {
   "cell_type": "code",
   "execution_count": 7,
   "metadata": {},
   "outputs": [],
   "source": [
    "df['no_of_tokens'] = df.token_list.apply(lambda x: len(x))\n",
    "df['unique_no_of_tokens'] = df.token_list.apply(lambda x : len(list(set(x))))"
   ]
  },
  {
   "cell_type": "code",
   "execution_count": 10,
   "metadata": {},
   "outputs": [
    {
     "name": "stdout",
     "output_type": "stream",
     "text": [
      "(27, 4)\n"
     ]
    },
    {
     "data": {
      "text/html": [
       "<div>\n",
       "<style scoped>\n",
       "    .dataframe tbody tr th:only-of-type {\n",
       "        vertical-align: middle;\n",
       "    }\n",
       "\n",
       "    .dataframe tbody tr th {\n",
       "        vertical-align: top;\n",
       "    }\n",
       "\n",
       "    .dataframe thead th {\n",
       "        text-align: right;\n",
       "    }\n",
       "</style>\n",
       "<table border=\"1\" class=\"dataframe\">\n",
       "  <thead>\n",
       "    <tr style=\"text-align: right;\">\n",
       "      <th></th>\n",
       "      <th>id</th>\n",
       "      <th>token_list</th>\n",
       "      <th>no_of_tokens</th>\n",
       "      <th>unique_no_of_tokens</th>\n",
       "    </tr>\n",
       "  </thead>\n",
       "  <tbody>\n",
       "    <tr>\n",
       "      <th>0</th>\n",
       "      <td>service_1549654281612y5o71a9qjpa</td>\n",
       "      <td>[place, just, food_available, luckily, padding...</td>\n",
       "      <td>7000</td>\n",
       "      <td>123</td>\n",
       "    </tr>\n",
       "    <tr>\n",
       "      <th>1</th>\n",
       "      <td>service_0599883f41aa4839969147cf8f06d87a</td>\n",
       "      <td>[awesome, ok, hardly, oily, big, north_indian,...</td>\n",
       "      <td>7000</td>\n",
       "      <td>311</td>\n",
       "    </tr>\n",
       "    <tr>\n",
       "      <th>2</th>\n",
       "      <td>service_08876b7cbfc24623a18c41ee00c48cfc</td>\n",
       "      <td>[newly, khawaneej, wala, food, surrounding, al...</td>\n",
       "      <td>7000</td>\n",
       "      <td>100</td>\n",
       "    </tr>\n",
       "    <tr>\n",
       "      <th>3</th>\n",
       "      <td>service_1549650011117igv4b8hkuhp</td>\n",
       "      <td>[promptly_then, fact_good, bread_fresh, person...</td>\n",
       "      <td>7000</td>\n",
       "      <td>3460</td>\n",
       "    </tr>\n",
       "    <tr>\n",
       "      <th>4</th>\n",
       "      <td>service_1549650327042ssjmpgyvood</td>\n",
       "      <td>[2, flexibility, kevin, business_meeting, dinn...</td>\n",
       "      <td>6998</td>\n",
       "      <td>3987</td>\n",
       "    </tr>\n",
       "    <tr>\n",
       "      <th>5</th>\n",
       "      <td>service_1549651741764q95j6es4hu</td>\n",
       "      <td>[future, full_meal, too, member_staff, part_xm...</td>\n",
       "      <td>7000</td>\n",
       "      <td>1006</td>\n",
       "    </tr>\n",
       "    <tr>\n",
       "      <th>6</th>\n",
       "      <td>service_15496520333351tni4q3a6b9</td>\n",
       "      <td>[not_now, perfect_other, service_wine, dish_de...</td>\n",
       "      <td>7000</td>\n",
       "      <td>239</td>\n",
       "    </tr>\n",
       "    <tr>\n",
       "      <th>7</th>\n",
       "      <td>service_1549652388298wfrv5zdjtw</td>\n",
       "      <td>[thing, portion, 15, totally_acceptable, mediu...</td>\n",
       "      <td>7000</td>\n",
       "      <td>3749</td>\n",
       "    </tr>\n",
       "    <tr>\n",
       "      <th>8</th>\n",
       "      <td>service_15496524279452efmatad97b</td>\n",
       "      <td>[down, perfectly, always_very, wrap_delicious,...</td>\n",
       "      <td>7000</td>\n",
       "      <td>2250</td>\n",
       "    </tr>\n",
       "    <tr>\n",
       "      <th>9</th>\n",
       "      <td>service_15496525315504ymk5q6sk1k</td>\n",
       "      <td>[butter_chicken, suffocation, indian_restauran...</td>\n",
       "      <td>6998</td>\n",
       "      <td>2633</td>\n",
       "    </tr>\n",
       "    <tr>\n",
       "      <th>10</th>\n",
       "      <td>service_1549653045953v02pwgh68cq</td>\n",
       "      <td>[not_worth, pressure_leave.staff_happy, very_n...</td>\n",
       "      <td>7000</td>\n",
       "      <td>463</td>\n",
       "    </tr>\n",
       "    <tr>\n",
       "      <th>11</th>\n",
       "      <td>service_154965316340641wrb00h065</td>\n",
       "      <td>[belgium_beer, music_not, service_excellent, p...</td>\n",
       "      <td>6998</td>\n",
       "      <td>2425</td>\n",
       "    </tr>\n",
       "    <tr>\n",
       "      <th>12</th>\n",
       "      <td>service_154965425864728wngkzq5ad</td>\n",
       "      <td>[here_pub, authentic, little_pub, back, good_s...</td>\n",
       "      <td>7000</td>\n",
       "      <td>96</td>\n",
       "    </tr>\n",
       "    <tr>\n",
       "      <th>13</th>\n",
       "      <td>service_1549654477252p2monom5o7</td>\n",
       "      <td>[flat_noodle, small_cafe, rainy_night, fortune...</td>\n",
       "      <td>7000</td>\n",
       "      <td>142</td>\n",
       "    </tr>\n",
       "    <tr>\n",
       "      <th>14</th>\n",
       "      <td>service_1549654489597k35evbtfmnk</td>\n",
       "      <td>[simply_restaurant/bar, on.excellent_food, mor...</td>\n",
       "      <td>7000</td>\n",
       "      <td>476</td>\n",
       "    </tr>\n",
       "    <tr>\n",
       "      <th>15</th>\n",
       "      <td>service_1549654902753dsleqaxgt2b</td>\n",
       "      <td>[6.50, here_lunch, sesame_oil, food_place, yum...</td>\n",
       "      <td>7000</td>\n",
       "      <td>78</td>\n",
       "    </tr>\n",
       "    <tr>\n",
       "      <th>16</th>\n",
       "      <td>service_15496564441971q6iz2okt3n</td>\n",
       "      <td>[friday_night, 46, lunch!)it, quiet, least, pl...</td>\n",
       "      <td>7000</td>\n",
       "      <td>257</td>\n",
       "    </tr>\n",
       "    <tr>\n",
       "      <th>17</th>\n",
       "      <td>service_1549656710739twfrk6u7stg</td>\n",
       "      <td>[sunday_early, however_one, even, thing, beef_...</td>\n",
       "      <td>7000</td>\n",
       "      <td>118</td>\n",
       "    </tr>\n",
       "    <tr>\n",
       "      <th>18</th>\n",
       "      <td>service_1549656737926u5ginil22mh</td>\n",
       "      <td>[phone, also, driver_card, 2, time, ring, copy...</td>\n",
       "      <td>7000</td>\n",
       "      <td>69</td>\n",
       "    </tr>\n",
       "    <tr>\n",
       "      <th>19</th>\n",
       "      <td>service_21219562f6364cb195daaf28c686605e</td>\n",
       "      <td>[dish_sweet, arrangement_quite, qty.service_qu...</td>\n",
       "      <td>7000</td>\n",
       "      <td>8</td>\n",
       "    </tr>\n",
       "    <tr>\n",
       "      <th>20</th>\n",
       "      <td>service_3e9b4ed6b1e84f79b5fc530d8722ba37</td>\n",
       "      <td>[exactly, 79aed??manager, compensation, bad_de...</td>\n",
       "      <td>7000</td>\n",
       "      <td>932</td>\n",
       "    </tr>\n",
       "    <tr>\n",
       "      <th>21</th>\n",
       "      <td>service_4e7fc0ee992b4490829fdce58a32a684</td>\n",
       "      <td>[indeed_very, only_cash, today, soon_not, most...</td>\n",
       "      <td>7000</td>\n",
       "      <td>305</td>\n",
       "    </tr>\n",
       "    <tr>\n",
       "      <th>22</th>\n",
       "      <td>service_51e6fc75fc2141a79be4483287949b2d</td>\n",
       "      <td>[cream, favorite, 5, out, white_bread, however...</td>\n",
       "      <td>7000</td>\n",
       "      <td>2288</td>\n",
       "    </tr>\n",
       "    <tr>\n",
       "      <th>23</th>\n",
       "      <td>service_81085d126cdc47bd8d64bdb5bfc87355</td>\n",
       "      <td>[blanket, professional, very_unprofessional, n...</td>\n",
       "      <td>7000</td>\n",
       "      <td>29</td>\n",
       "    </tr>\n",
       "  </tbody>\n",
       "</table>\n",
       "</div>"
      ],
      "text/plain": [
       "                                          id  \\\n",
       "0           service_1549654281612y5o71a9qjpa   \n",
       "1   service_0599883f41aa4839969147cf8f06d87a   \n",
       "2   service_08876b7cbfc24623a18c41ee00c48cfc   \n",
       "3           service_1549650011117igv4b8hkuhp   \n",
       "4           service_1549650327042ssjmpgyvood   \n",
       "5            service_1549651741764q95j6es4hu   \n",
       "6           service_15496520333351tni4q3a6b9   \n",
       "7            service_1549652388298wfrv5zdjtw   \n",
       "8           service_15496524279452efmatad97b   \n",
       "9           service_15496525315504ymk5q6sk1k   \n",
       "10          service_1549653045953v02pwgh68cq   \n",
       "11          service_154965316340641wrb00h065   \n",
       "12          service_154965425864728wngkzq5ad   \n",
       "13           service_1549654477252p2monom5o7   \n",
       "14          service_1549654489597k35evbtfmnk   \n",
       "15          service_1549654902753dsleqaxgt2b   \n",
       "16          service_15496564441971q6iz2okt3n   \n",
       "17          service_1549656710739twfrk6u7stg   \n",
       "18          service_1549656737926u5ginil22mh   \n",
       "19  service_21219562f6364cb195daaf28c686605e   \n",
       "20  service_3e9b4ed6b1e84f79b5fc530d8722ba37   \n",
       "21  service_4e7fc0ee992b4490829fdce58a32a684   \n",
       "22  service_51e6fc75fc2141a79be4483287949b2d   \n",
       "23  service_81085d126cdc47bd8d64bdb5bfc87355   \n",
       "\n",
       "                                           token_list  no_of_tokens  \\\n",
       "0   [place, just, food_available, luckily, padding...          7000   \n",
       "1   [awesome, ok, hardly, oily, big, north_indian,...          7000   \n",
       "2   [newly, khawaneej, wala, food, surrounding, al...          7000   \n",
       "3   [promptly_then, fact_good, bread_fresh, person...          7000   \n",
       "4   [2, flexibility, kevin, business_meeting, dinn...          6998   \n",
       "5   [future, full_meal, too, member_staff, part_xm...          7000   \n",
       "6   [not_now, perfect_other, service_wine, dish_de...          7000   \n",
       "7   [thing, portion, 15, totally_acceptable, mediu...          7000   \n",
       "8   [down, perfectly, always_very, wrap_delicious,...          7000   \n",
       "9   [butter_chicken, suffocation, indian_restauran...          6998   \n",
       "10  [not_worth, pressure_leave.staff_happy, very_n...          7000   \n",
       "11  [belgium_beer, music_not, service_excellent, p...          6998   \n",
       "12  [here_pub, authentic, little_pub, back, good_s...          7000   \n",
       "13  [flat_noodle, small_cafe, rainy_night, fortune...          7000   \n",
       "14  [simply_restaurant/bar, on.excellent_food, mor...          7000   \n",
       "15  [6.50, here_lunch, sesame_oil, food_place, yum...          7000   \n",
       "16  [friday_night, 46, lunch!)it, quiet, least, pl...          7000   \n",
       "17  [sunday_early, however_one, even, thing, beef_...          7000   \n",
       "18  [phone, also, driver_card, 2, time, ring, copy...          7000   \n",
       "19  [dish_sweet, arrangement_quite, qty.service_qu...          7000   \n",
       "20  [exactly, 79aed??manager, compensation, bad_de...          7000   \n",
       "21  [indeed_very, only_cash, today, soon_not, most...          7000   \n",
       "22  [cream, favorite, 5, out, white_bread, however...          7000   \n",
       "23  [blanket, professional, very_unprofessional, n...          7000   \n",
       "\n",
       "    unique_no_of_tokens  \n",
       "0                   123  \n",
       "1                   311  \n",
       "2                   100  \n",
       "3                  3460  \n",
       "4                  3987  \n",
       "5                  1006  \n",
       "6                   239  \n",
       "7                  3749  \n",
       "8                  2250  \n",
       "9                  2633  \n",
       "10                  463  \n",
       "11                 2425  \n",
       "12                   96  \n",
       "13                  142  \n",
       "14                  476  \n",
       "15                   78  \n",
       "16                  257  \n",
       "17                  118  \n",
       "18                   69  \n",
       "19                    8  \n",
       "20                  932  \n",
       "21                  305  \n",
       "22                 2288  \n",
       "23                   29  "
      ]
     },
     "execution_count": 10,
     "metadata": {},
     "output_type": "execute_result"
    }
   ],
   "source": [
    "print(df.shape)\n",
    "df.head(24)"
   ]
  },
  {
   "cell_type": "code",
   "execution_count": 9,
   "metadata": {},
   "outputs": [
    {
     "data": {
      "text/html": [
       "<div>\n",
       "<style scoped>\n",
       "    .dataframe tbody tr th:only-of-type {\n",
       "        vertical-align: middle;\n",
       "    }\n",
       "\n",
       "    .dataframe tbody tr th {\n",
       "        vertical-align: top;\n",
       "    }\n",
       "\n",
       "    .dataframe thead th {\n",
       "        text-align: right;\n",
       "    }\n",
       "</style>\n",
       "<table border=\"1\" class=\"dataframe\">\n",
       "  <thead>\n",
       "    <tr style=\"text-align: right;\">\n",
       "      <th></th>\n",
       "      <th>id</th>\n",
       "      <th>token_list</th>\n",
       "      <th>no_of_tokens</th>\n",
       "      <th>unique_no_of_tokens</th>\n",
       "    </tr>\n",
       "  </thead>\n",
       "  <tbody>\n",
       "  </tbody>\n",
       "</table>\n",
       "</div>"
      ],
      "text/plain": [
       "Empty DataFrame\n",
       "Columns: [id, token_list, no_of_tokens, unique_no_of_tokens]\n",
       "Index: []"
      ]
     },
     "execution_count": 9,
     "metadata": {},
     "output_type": "execute_result"
    }
   ],
   "source": [
    "df[df.id=='service_154964980297320is2150ga7']"
   ]
  },
  {
   "cell_type": "code",
   "execution_count": 19,
   "metadata": {},
   "outputs": [],
   "source": [
    "import mysql.connector\n",
    "\n",
    "from google.cloud import secretmanager\n",
    "\n",
    "PROJECT_ID = 'alpha-274108'\n",
    "\n",
    "def access_secret_version(self,project_id, secret_id, version_id):\n",
    "    \"\"\"\n",
    "    Access the payload for the given secret version if one exists. The version\n",
    "    can be a version number as a string (e.g. \"5\") or an alias (e.g. \"latest\").\n",
    "    \"\"\"\n",
    "    # Create the Secret Manager client.\n",
    "    client = secretmanager.SecretManagerServiceClient()\n",
    "\n",
    "    # Build the resource name of the secret version.\n",
    "    name = client.secret_version_path(project_id, secret_id, version_id)\n",
    "\n",
    "    # Access the secret version.\n",
    "    response = client.access_secret_version(name)\n",
    "    \n",
    "    payload = response.payload.data.decode('UTF-8')\n",
    "    return format(payload)\n",
    "\n",
    "\n",
    "HOSTNAME = access_secret_version(PROJECT_ID, 'CHOST-A', 'latest'),\n",
    "USER = access_secret_version(PROJECT_ID, 'CHOST-A-USER', 'latest'),\n",
    "PASSWORD = access_secret_version(PROJECT_ID, 'CHOST-A-PASS', 'latest'),\n",
    "DATABASE = 'sydney_zomato_database'\n",
    "\n",
    "def get_connection():\n",
    "    mydb = mysql.connector.connect(\n",
    "        host=HOSTNAME,\n",
    "        user=USER,\n",
    "        passwd=PASSWORD,\n",
    "        database=DATABASE\n",
    "    )\n",
    "\n",
    "    mycursor = mydb.cursor()\n",
    "\n",
    "    return mydb, mycursor\n",
    "\n",
    "mycursor,mydb = get_connection()"
   ]
  },
  {
   "cell_type": "code",
   "execution_count": 20,
   "metadata": {},
   "outputs": [],
   "source": [
    "\n",
    "mycursor.execute('SELECT e.id,se.name,se.address FROM entity e,service_entity se,entity_summary es WHERE e.entity_id = se.id AND e.id = es.entity_id')\n",
    "\n",
    "zomato_rest_df = pd.DataFrame(mycursor.fetchall())"
   ]
  },
  {
   "cell_type": "code",
   "execution_count": 21,
   "metadata": {},
   "outputs": [
    {
     "name": "stdout",
     "output_type": "stream",
     "text": [
      "(8848, 3)\n"
     ]
    },
    {
     "data": {
      "text/html": [
       "<div>\n",
       "<style scoped>\n",
       "    .dataframe tbody tr th:only-of-type {\n",
       "        vertical-align: middle;\n",
       "    }\n",
       "\n",
       "    .dataframe tbody tr th {\n",
       "        vertical-align: top;\n",
       "    }\n",
       "\n",
       "    .dataframe thead th {\n",
       "        text-align: right;\n",
       "    }\n",
       "</style>\n",
       "<table border=\"1\" class=\"dataframe\">\n",
       "  <thead>\n",
       "    <tr style=\"text-align: right;\">\n",
       "      <th></th>\n",
       "      <th>id</th>\n",
       "      <th>name</th>\n",
       "      <th>address</th>\n",
       "    </tr>\n",
       "  </thead>\n",
       "  <tbody>\n",
       "    <tr>\n",
       "      <th>0</th>\n",
       "      <td>service_b0a328e786274da4b3863b57020ae5d8</td>\n",
       "      <td>Maestro - Conrad Dubai</td>\n",
       "      <td>Floor 7, Conrad Dubai, Sheikh Zayed Road, Trad...</td>\n",
       "    </tr>\n",
       "    <tr>\n",
       "      <th>1</th>\n",
       "      <td>service_3f206fe1259548b992f571207562d104</td>\n",
       "      <td>Cozy Cabana</td>\n",
       "      <td>Ground Floor, Sonoker Point Building, Umm Hura...</td>\n",
       "    </tr>\n",
       "    <tr>\n",
       "      <th>2</th>\n",
       "      <td>service_56b8ed95a12a40f39050ee9043ce5ea3</td>\n",
       "      <td>Zaferan Iranian Restaurant</td>\n",
       "      <td>Ibn Batuta Mall, Garden Cross Road, Jebel Ali ...</td>\n",
       "    </tr>\n",
       "    <tr>\n",
       "      <th>3</th>\n",
       "      <td>service_65ab79bc86b94b5d924db3b07f447940</td>\n",
       "      <td>Seattle's Best Coffee</td>\n",
       "      <td>G41, Ground Floor, Building 7, Phase 2, Dubai ...</td>\n",
       "    </tr>\n",
       "    <tr>\n",
       "      <th>4</th>\n",
       "      <td>service_9f053766fb6d41c3bdc4280ee2783baa</td>\n",
       "      <td>Pizza Hut</td>\n",
       "      <td>ENOC Petrol Station, Opposite Al Wasl Club, Du...</td>\n",
       "    </tr>\n",
       "  </tbody>\n",
       "</table>\n",
       "</div>"
      ],
      "text/plain": [
       "                                         id                        name  \\\n",
       "0  service_b0a328e786274da4b3863b57020ae5d8      Maestro - Conrad Dubai   \n",
       "1  service_3f206fe1259548b992f571207562d104                 Cozy Cabana   \n",
       "2  service_56b8ed95a12a40f39050ee9043ce5ea3  Zaferan Iranian Restaurant   \n",
       "3  service_65ab79bc86b94b5d924db3b07f447940       Seattle's Best Coffee   \n",
       "4  service_9f053766fb6d41c3bdc4280ee2783baa                   Pizza Hut   \n",
       "\n",
       "                                             address  \n",
       "0  Floor 7, Conrad Dubai, Sheikh Zayed Road, Trad...  \n",
       "1  Ground Floor, Sonoker Point Building, Umm Hura...  \n",
       "2  Ibn Batuta Mall, Garden Cross Road, Jebel Ali ...  \n",
       "3  G41, Ground Floor, Building 7, Phase 2, Dubai ...  \n",
       "4  ENOC Petrol Station, Opposite Al Wasl Club, Du...  "
      ]
     },
     "execution_count": 21,
     "metadata": {},
     "output_type": "execute_result"
    }
   ],
   "source": [
    "zomato_rest_df.columns = ['id','name','address']\n",
    "print(zomato_rest_df.shape)\n",
    "zomato_rest_df.head()"
   ]
  },
  {
   "cell_type": "code",
   "execution_count": 17,
   "metadata": {},
   "outputs": [],
   "source": [
    "\n",
    "mycursor.execute('SELECT e.id,se.name,se.address FROM entity e,service_entity se,entity_summary es WHERE e.entity_id = se.id AND e.id = es.entity_id')\n",
    "\n",
    "trip_rest_df = pd.DataFrame(mycursor.fetchall())"
   ]
  },
  {
   "cell_type": "code",
   "execution_count": 18,
   "metadata": {},
   "outputs": [
    {
     "name": "stdout",
     "output_type": "stream",
     "text": [
      "(17622, 3)\n"
     ]
    },
    {
     "data": {
      "text/html": [
       "<div>\n",
       "<style scoped>\n",
       "    .dataframe tbody tr th:only-of-type {\n",
       "        vertical-align: middle;\n",
       "    }\n",
       "\n",
       "    .dataframe tbody tr th {\n",
       "        vertical-align: top;\n",
       "    }\n",
       "\n",
       "    .dataframe thead th {\n",
       "        text-align: right;\n",
       "    }\n",
       "</style>\n",
       "<table border=\"1\" class=\"dataframe\">\n",
       "  <thead>\n",
       "    <tr style=\"text-align: right;\">\n",
       "      <th></th>\n",
       "      <th>id</th>\n",
       "      <th>name</th>\n",
       "      <th>address</th>\n",
       "    </tr>\n",
       "  </thead>\n",
       "  <tbody>\n",
       "    <tr>\n",
       "      <th>0</th>\n",
       "      <td>service_1549649802973cl31it84cgu</td>\n",
       "      <td>Humble Grape - Islington</td>\n",
       "      <td>11-13 Theberton Street | off Upper Street, Lon...</td>\n",
       "    </tr>\n",
       "    <tr>\n",
       "      <th>1</th>\n",
       "      <td>service_1549649802973pcqdsu7r53o</td>\n",
       "      <td>The Virgin Queen</td>\n",
       "      <td>94 Goldsmiths Row, London E2 8QY, England</td>\n",
       "    </tr>\n",
       "    <tr>\n",
       "      <th>2</th>\n",
       "      <td>service_15496498029735jvewtnkaud</td>\n",
       "      <td>Oliveira Organic Vegetarian Kitchen</td>\n",
       "      <td>469 Upper Richmond Road West, London SW14 7PU,...</td>\n",
       "    </tr>\n",
       "    <tr>\n",
       "      <th>3</th>\n",
       "      <td>service_1549649802973fhh9j7hj2n</td>\n",
       "      <td>Taste Of Nawab</td>\n",
       "      <td>97 Colney Hatch Lane | Muswell Hill, London N1...</td>\n",
       "    </tr>\n",
       "    <tr>\n",
       "      <th>4</th>\n",
       "      <td>service_15496498029733if9404ywys</td>\n",
       "      <td>The Clink Restaurant</td>\n",
       "      <td>Brixton Jebb Avenue | Brixton, London SW2 5XF,...</td>\n",
       "    </tr>\n",
       "  </tbody>\n",
       "</table>\n",
       "</div>"
      ],
      "text/plain": [
       "                                 id                                 name  \\\n",
       "0  service_1549649802973cl31it84cgu             Humble Grape - Islington   \n",
       "1  service_1549649802973pcqdsu7r53o                     The Virgin Queen   \n",
       "2  service_15496498029735jvewtnkaud  Oliveira Organic Vegetarian Kitchen   \n",
       "3   service_1549649802973fhh9j7hj2n                       Taste Of Nawab   \n",
       "4  service_15496498029733if9404ywys                 The Clink Restaurant   \n",
       "\n",
       "                                             address  \n",
       "0  11-13 Theberton Street | off Upper Street, Lon...  \n",
       "1          94 Goldsmiths Row, London E2 8QY, England  \n",
       "2  469 Upper Richmond Road West, London SW14 7PU,...  \n",
       "3  97 Colney Hatch Lane | Muswell Hill, London N1...  \n",
       "4  Brixton Jebb Avenue | Brixton, London SW2 5XF,...  "
      ]
     },
     "execution_count": 18,
     "metadata": {},
     "output_type": "execute_result"
    }
   ],
   "source": [
    "trip_rest_df.columns = ['id','name','address']\n",
    "print(trip_rest_df.shape)\n",
    "trip_rest_df.head()"
   ]
  },
  {
   "cell_type": "code",
   "execution_count": 22,
   "metadata": {},
   "outputs": [],
   "source": [
    "rest_df = zomato_rest_df.append(trip_rest_df,ignore_index=True)"
   ]
  },
  {
   "cell_type": "code",
   "execution_count": 23,
   "metadata": {},
   "outputs": [
    {
     "data": {
      "text/plain": [
       "(26470, 3)"
      ]
     },
     "execution_count": 23,
     "metadata": {},
     "output_type": "execute_result"
    }
   ],
   "source": [
    "rest_df.shape"
   ]
  },
  {
   "cell_type": "code",
   "execution_count": 24,
   "metadata": {},
   "outputs": [],
   "source": [
    "df = df.merge(rest_df,how='inner',on='id')"
   ]
  },
  {
   "cell_type": "code",
   "execution_count": 25,
   "metadata": {},
   "outputs": [
    {
     "name": "stdout",
     "output_type": "stream",
     "text": [
      "(27, 6)\n"
     ]
    },
    {
     "name": "stderr",
     "output_type": "stream",
     "text": [
      "/home/krowd/anaconda3/lib/python3.7/site-packages/ipykernel_launcher.py:2: UserWarning: Pandas doesn't allow columns to be created via a new attribute name - see https://pandas.pydata.org/pandas-docs/stable/indexing.html#attribute-access\n",
      "  \n"
     ]
    },
    {
     "data": {
      "text/html": [
       "<div>\n",
       "<style scoped>\n",
       "    .dataframe tbody tr th:only-of-type {\n",
       "        vertical-align: middle;\n",
       "    }\n",
       "\n",
       "    .dataframe tbody tr th {\n",
       "        vertical-align: top;\n",
       "    }\n",
       "\n",
       "    .dataframe thead th {\n",
       "        text-align: right;\n",
       "    }\n",
       "</style>\n",
       "<table border=\"1\" class=\"dataframe\">\n",
       "  <thead>\n",
       "    <tr style=\"text-align: right;\">\n",
       "      <th></th>\n",
       "      <th>id</th>\n",
       "      <th>token_list</th>\n",
       "      <th>no_of_tokens</th>\n",
       "      <th>unique_no_of_tokens</th>\n",
       "      <th>name</th>\n",
       "      <th>address</th>\n",
       "    </tr>\n",
       "  </thead>\n",
       "  <tbody>\n",
       "    <tr>\n",
       "      <th>0</th>\n",
       "      <td>service_1549654281612y5o71a9qjpa</td>\n",
       "      <td>[place, just, food_available, luckily, padding...</td>\n",
       "      <td>7000</td>\n",
       "      <td>123</td>\n",
       "      <td>Wasabi Bento &amp; Sushi</td>\n",
       "      <td>Bridge Street | Unit 12, Paddington Station, L...</td>\n",
       "    </tr>\n",
       "    <tr>\n",
       "      <th>1</th>\n",
       "      <td>service_0599883f41aa4839969147cf8f06d87a</td>\n",
       "      <td>[awesome, ok, hardly, oily, big, north_indian,...</td>\n",
       "      <td>7000</td>\n",
       "      <td>311</td>\n",
       "      <td>Punjab Sarhad</td>\n",
       "      <td>Ground Level, Y 21 Building, England Cluster, ...</td>\n",
       "    </tr>\n",
       "    <tr>\n",
       "      <th>2</th>\n",
       "      <td>service_08876b7cbfc24623a18c41ee00c48cfc</td>\n",
       "      <td>[newly, khawaneej, wala, food, surrounding, al...</td>\n",
       "      <td>7000</td>\n",
       "      <td>100</td>\n",
       "      <td>Rola Wala</td>\n",
       "      <td>Last Exit Al Khawaneej, Al Khawaneej, Dubai</td>\n",
       "    </tr>\n",
       "    <tr>\n",
       "      <th>3</th>\n",
       "      <td>service_1549650011117igv4b8hkuhp</td>\n",
       "      <td>[promptly_then, fact_good, bread_fresh, person...</td>\n",
       "      <td>7000</td>\n",
       "      <td>3460</td>\n",
       "      <td>Lobos</td>\n",
       "      <td>14 Borough High Street, London SE1 9QG, England</td>\n",
       "    </tr>\n",
       "    <tr>\n",
       "      <th>4</th>\n",
       "      <td>service_1549650327042ssjmpgyvood</td>\n",
       "      <td>[2, flexibility, kevin, business_meeting, dinn...</td>\n",
       "      <td>6998</td>\n",
       "      <td>3987</td>\n",
       "      <td>German Gymnasium</td>\n",
       "      <td>1 King's Boulevard | Boulevard, London N1C 4BU...</td>\n",
       "    </tr>\n",
       "  </tbody>\n",
       "</table>\n",
       "</div>"
      ],
      "text/plain": [
       "                                         id  \\\n",
       "0          service_1549654281612y5o71a9qjpa   \n",
       "1  service_0599883f41aa4839969147cf8f06d87a   \n",
       "2  service_08876b7cbfc24623a18c41ee00c48cfc   \n",
       "3          service_1549650011117igv4b8hkuhp   \n",
       "4          service_1549650327042ssjmpgyvood   \n",
       "\n",
       "                                          token_list  no_of_tokens  \\\n",
       "0  [place, just, food_available, luckily, padding...          7000   \n",
       "1  [awesome, ok, hardly, oily, big, north_indian,...          7000   \n",
       "2  [newly, khawaneej, wala, food, surrounding, al...          7000   \n",
       "3  [promptly_then, fact_good, bread_fresh, person...          7000   \n",
       "4  [2, flexibility, kevin, business_meeting, dinn...          6998   \n",
       "\n",
       "   unique_no_of_tokens                  name  \\\n",
       "0                  123  Wasabi Bento & Sushi   \n",
       "1                  311         Punjab Sarhad   \n",
       "2                  100             Rola Wala   \n",
       "3                 3460                 Lobos   \n",
       "4                 3987      German Gymnasium   \n",
       "\n",
       "                                             address  \n",
       "0  Bridge Street | Unit 12, Paddington Station, L...  \n",
       "1  Ground Level, Y 21 Building, England Cluster, ...  \n",
       "2        Last Exit Al Khawaneej, Al Khawaneej, Dubai  \n",
       "3    14 Borough High Street, London SE1 9QG, England  \n",
       "4  1 King's Boulevard | Boulevard, London N1C 4BU...  "
      ]
     },
     "execution_count": 25,
     "metadata": {},
     "output_type": "execute_result"
    }
   ],
   "source": [
    "print(df.shape)\n",
    "df.colums = ['id','name','address','token_list','no_of_tokens','unique_no_of_tokens']\n",
    "df.head()"
   ]
  },
  {
   "cell_type": "code",
   "execution_count": 26,
   "metadata": {},
   "outputs": [],
   "source": [
    "df.to_csv(\"/media/krowd/Data/CrossBorderSampled/token_counts_for_all_zt_rest.csv\",header=True,index=False)"
   ]
  },
  {
   "cell_type": "code",
   "execution_count": null,
   "metadata": {},
   "outputs": [],
   "source": [
    "#while using this script for the second time we can directly read the dataset saved in prev. cell\n",
    "#df = pd.read_csv(\"/media/krowd/New Volume/Merchant-Directory/dataset-for-md/token_counts_for_all_zt_rest.csv\",header=0)\n",
    "#rint(\"Shape:\",df.shape)\n",
    "#f.head()"
   ]
  },
  {
   "cell_type": "code",
   "execution_count": 33,
   "metadata": {},
   "outputs": [
    {
     "data": {
      "text/html": [
       "<div>\n",
       "<style scoped>\n",
       "    .dataframe tbody tr th:only-of-type {\n",
       "        vertical-align: middle;\n",
       "    }\n",
       "\n",
       "    .dataframe tbody tr th {\n",
       "        vertical-align: top;\n",
       "    }\n",
       "\n",
       "    .dataframe thead th {\n",
       "        text-align: right;\n",
       "    }\n",
       "</style>\n",
       "<table border=\"1\" class=\"dataframe\">\n",
       "  <thead>\n",
       "    <tr style=\"text-align: right;\">\n",
       "      <th></th>\n",
       "      <th>no_of_tokens</th>\n",
       "      <th>unique_no_of_tokens</th>\n",
       "    </tr>\n",
       "  </thead>\n",
       "  <tbody>\n",
       "    <tr>\n",
       "      <th>count</th>\n",
       "      <td>26470.000000</td>\n",
       "      <td>26470.000000</td>\n",
       "    </tr>\n",
       "    <tr>\n",
       "      <th>mean</th>\n",
       "      <td>2863.145825</td>\n",
       "      <td>1454.997280</td>\n",
       "    </tr>\n",
       "    <tr>\n",
       "      <th>std</th>\n",
       "      <td>9439.846060</td>\n",
       "      <td>2785.362628</td>\n",
       "    </tr>\n",
       "    <tr>\n",
       "      <th>min</th>\n",
       "      <td>0.000000</td>\n",
       "      <td>0.000000</td>\n",
       "    </tr>\n",
       "    <tr>\n",
       "      <th>25%</th>\n",
       "      <td>118.000000</td>\n",
       "      <td>108.000000</td>\n",
       "    </tr>\n",
       "    <tr>\n",
       "      <th>50%</th>\n",
       "      <td>569.000000</td>\n",
       "      <td>467.000000</td>\n",
       "    </tr>\n",
       "    <tr>\n",
       "      <th>75%</th>\n",
       "      <td>2344.750000</td>\n",
       "      <td>1620.750000</td>\n",
       "    </tr>\n",
       "    <tr>\n",
       "      <th>max</th>\n",
       "      <td>425592.000000</td>\n",
       "      <td>70821.000000</td>\n",
       "    </tr>\n",
       "  </tbody>\n",
       "</table>\n",
       "</div>"
      ],
      "text/plain": [
       "        no_of_tokens  unique_no_of_tokens\n",
       "count   26470.000000         26470.000000\n",
       "mean     2863.145825          1454.997280\n",
       "std      9439.846060          2785.362628\n",
       "min         0.000000             0.000000\n",
       "25%       118.000000           108.000000\n",
       "50%       569.000000           467.000000\n",
       "75%      2344.750000          1620.750000\n",
       "max    425592.000000         70821.000000"
      ]
     },
     "execution_count": 33,
     "metadata": {},
     "output_type": "execute_result"
    }
   ],
   "source": [
    "df.describe()"
   ]
  },
  {
   "cell_type": "code",
   "execution_count": 21,
   "metadata": {},
   "outputs": [],
   "source": [
    "import seaborn as sns\n",
    "import matplotlib.pyplot as plt"
   ]
  },
  {
   "cell_type": "code",
   "execution_count": 22,
   "metadata": {},
   "outputs": [
    {
     "data": {
      "text/plain": [
       "<matplotlib.axes._subplots.AxesSubplot at 0x7f3402ffaef0>"
      ]
     },
     "execution_count": 22,
     "metadata": {},
     "output_type": "execute_result"
    },
    {
     "data": {
      "image/png": "[encoded data removed]",
      "text/plain": [
       "<Figure size 432x288 with 1 Axes>"
      ]
     },
     "metadata": {
      "needs_background": "light"
     },
     "output_type": "display_data"
    }
   ],
   "source": [
    "sns.countplot(x='name',hue='no_of_tokens',data=df.loc[:20,:]) "
   ]
  },
  {
   "cell_type": "code",
   "execution_count": 34,
   "metadata": {},
   "outputs": [
    {
     "data": {
      "text/plain": [
       "<matplotlib.axes._subplots.AxesSubplot at 0x7f33feb2de10>"
      ]
     },
     "execution_count": 34,
     "metadata": {},
     "output_type": "execute_result"
    },
    {
     "data": {
      "image/png": "[encoded data removed]",
      "text/plain": [
       "<Figure size 432x288 with 1 Axes>"
      ]
     },
     "metadata": {
      "needs_background": "light"
     },
     "output_type": "display_data"
    }
   ],
   "source": [
    "sns.distplot(df['no_of_tokens'],kde=False, rug=False)"
   ]
  },
  {
   "cell_type": "code",
   "execution_count": 35,
   "metadata": {},
   "outputs": [
    {
     "data": {
      "text/plain": [
       "<matplotlib.axes._subplots.AxesSubplot at 0x7f33fe9d6c88>"
      ]
     },
     "execution_count": 35,
     "metadata": {},
     "output_type": "execute_result"
    },
    {
     "data": {
      "image/png": "[encoded data removed]",
      "text/plain": [
       "<Figure size 432x288 with 1 Axes>"
      ]
     },
     "metadata": {
      "needs_background": "light"
     },
     "output_type": "display_data"
    }
   ],
   "source": [
    "sns.distplot(df['unique_no_of_tokens'],kde=False, rug=False)"
   ]
  },
  {
   "cell_type": "code",
   "execution_count": 28,
   "metadata": {},
   "outputs": [
    {
     "data": {
      "text/plain": [
       "<seaborn.axisgrid.PairGrid at 0x7f34008d9b70>"
      ]
     },
     "execution_count": 28,
     "metadata": {},
     "output_type": "execute_result"
    },
    {
     "data": {
      "image/png": "[encoded data removed]",
      "text/plain": [
       "<Figure size 360x360 with 6 Axes>"
      ]
     },
     "metadata": {
      "needs_background": "light"
     },
     "output_type": "display_data"
    }
   ],
   "source": [
    "sns.pairplot(df)"
   ]
  },
  {
   "cell_type": "code",
   "execution_count": 96,
   "metadata": {},
   "outputs": [],
   "source": [
    "#generate a histogram for a tokens appearing in a restaurant reviews.\n",
    "\n",
    "import seaborn as sns\n",
    "import matplotlib.pyplot as plt\n",
    "\n",
    "def generateHistogram(term_frq_count):\n",
    "    term_frq_df = pd.DataFrame.from_dict(term_frq_count,orient='index')\n",
    "    term_frq_df.reset_index(drop=False,inplace=True)\n",
    "    term_frq_df.columns = ['token','token_count']\n",
    "    print(\"Shape:\",term_frq_df.shape)\n",
    "    term_frq_df.sort_values('token_count',ascending=False,inplace=True)\n",
    "    term_frq_df.reset_index(drop=True,inplace=True)\n",
    "    print(term_frq_df.head())\n",
    "    \n",
    "    # Initialize the matplotlib figure\n",
    "    f, ax = plt.subplots(figsize=(6, 20))\n",
    "   \n",
    "    sns.set_color_codes(\"pastel\")\n",
    "    sns_plot = sns.barplot(x=\"token_count\", y=\"token\", data=term_frq_df.head(100),\n",
    "                label=\"Total\", color=\"b\")\n",
    "    fig = sns_plot.get_figure()\n",
    "    fig.savefig(\"/home/krowd/Desktop/output.png\",pad_inches = 2)"
   ]
  },
  {
   "cell_type": "code",
   "execution_count": 97,
   "metadata": {
    "scrolled": false
   },
   "outputs": [
    {
     "name": "stdout",
     "output_type": "stream",
     "text": [
      "Shape: (123, 2)\n",
      "   token  token_count\n",
      "0  train          195\n",
      "1  sushi          178\n",
      "2     so          145\n",
      "3    bag          128\n",
      "4  spicy          109\n"
     ]
    },
    {
     "data": {
      "image/png": "[encoded data removed]",
      "text/plain": [
       "<Figure size 432x1440 with 1 Axes>"
      ]
     },
     "metadata": {
      "needs_background": "light"
     },
     "output_type": "display_data"
    }
   ],
   "source": [
    "from collections import Counter\n",
    "\n",
    "input_token_list = df[df.id=='service_1549654281612y5o71a9qjpa'].token_list.tolist()[0]\n",
    "list_of_tokens = input_token_list\n",
    "\n",
    "term_frq_count = dict(Counter(list_of_tokens))\n",
    "generateHistogram(term_frq_count)"
   ]
  },
  {
   "cell_type": "code",
   "execution_count": 48,
   "metadata": {},
   "outputs": [
    {
     "data": {
      "image/png": "[encoded data removed]",
      "text/plain": [
       "<Figure size 432x288 with 1 Axes>"
      ]
     },
     "metadata": {
      "needs_background": "light"
     },
     "output_type": "display_data"
    }
   ],
   "source": [
    "sns.scatterplot(term_frq_df.loc[:5,:].token,term_frq_df.loc[:5,:].token_count)\n",
    "plt.xticks(rotation=45)\n",
    "plt.show()"
   ]
  },
  {
   "cell_type": "code",
   "execution_count": 49,
   "metadata": {},
   "outputs": [
    {
     "data": {
      "image/png": "[encoded data removed]",
      "text/plain": [
       "<Figure size 432x288 with 1 Axes>"
      ]
     },
     "metadata": {
      "needs_background": "light"
     },
     "output_type": "display_data"
    }
   ],
   "source": [
    "sns.lineplot(term_frq_df.loc[:5,:].token,term_frq_df.loc[:5,:].token_count)\n",
    "plt.xticks(rotation=45)\n",
    "plt.show()"
   ]
  },
  {
   "cell_type": "code",
   "execution_count": null,
   "metadata": {},
   "outputs": [],
   "source": []
  }
 ],
 "metadata": {
  "kernelspec": {
   "display_name": "Python 3",
   "language": "python",
   "name": "python3"
  },
  "language_info": {
   "codemirror_mode": {
    "name": "ipython",
    "version": 3
   },
   "file_extension": ".py",
   "mimetype": "text/x-python",
   "name": "python",
   "nbconvert_exporter": "python",
   "pygments_lexer": "ipython3",
   "version": "3.6.9"
  }
 },
 "nbformat": 4,
 "nbformat_minor": 2
}
