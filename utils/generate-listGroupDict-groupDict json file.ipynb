{
 "cells": [
  {
   "cell_type": "code",
   "execution_count": 6,
   "metadata": {},
   "outputs": [],
   "source": [
    "import pandas as pd\n",
    "import mysql.connector\n",
    "import json\n",
    "\n",
    "from google.cloud import secretmanager\n",
    "\n",
    "PROJECT_ID = 'alpha-274108'\n",
    "\n",
    "def access_secret_version(self,project_id, secret_id, version_id):\n",
    "    \"\"\"\n",
    "    Access the payload for the given secret version if one exists. The version\n",
    "    can be a version number as a string (e.g. \"5\") or an alias (e.g. \"latest\").\n",
    "    \"\"\"\n",
    "    # Create the Secret Manager client.\n",
    "    client = secretmanager.SecretManagerServiceClient()\n",
    "\n",
    "    # Build the resource name of the secret version.\n",
    "    name = client.secret_version_path(project_id, secret_id, version_id)\n",
    "\n",
    "    # Access the secret version.\n",
    "    response = client.access_secret_version(name)\n",
    "    \n",
    "    payload = response.payload.data.decode('UTF-8')\n",
    "    return format(payload)\n",
    "\n",
    "\n",
    "HOSTNAME = access_secret_version(PROJECT_ID, 'CHOST-A', 'latest'),\n",
    "USER = access_secret_version(PROJECT_ID, 'CHOST-A-USER', 'latest'),\n",
    "PASSWORD = access_secret_version(PROJECT_ID, 'CHOST-A-PASS', 'latest'),\n",
    "DATABASE = 'sydney_zomato_database'\n"
   ]
  },
  {
   "cell_type": "code",
   "execution_count": 2,
   "metadata": {},
   "outputs": [],
   "source": [
    "def getConnection(host_url,user_name,db_passwd,db_name):\n",
    "    mydb = mysql.connector.connect(\n",
    "                host=HOSTNAME,\n",
    "                user=USER,\n",
    "                passwd=PASSWORD,\n",
    "                database=DATABASE\n",
    "    )\n",
    "\n",
    "    mycursor = mydb.cursor()\n",
    "    \n",
    "    sql = 'SELECT t.id,ee.id as group_id FROM (SELECT e.id , r.id as rid, r.group_id FROM entity e, restaurant_group r WHERE r.id = e.entity_id) t, entity ee WHERE ee.entity_id = t.group_id'\n",
    "    \n",
    "    mycursor.execute(sql)\n",
    "    df = pd.DataFrame(mycursor.fetchall())\n",
    "    df.columns = ['id','group_id']\n",
    "    return df\n"
   ]
  },
  {
   "cell_type": "code",
   "execution_count": 4,
   "metadata": {},
   "outputs": [],
   "source": [
    "group_df = getConnection('159.65.149.50','root','krowd_voljin_db','sydney_zomato_database')"
   ]
  },
  {
   "cell_type": "code",
   "execution_count": 5,
   "metadata": {},
   "outputs": [
    {
     "data": {
      "text/html": [
       "<div>\n",
       "<style scoped>\n",
       "    .dataframe tbody tr th:only-of-type {\n",
       "        vertical-align: middle;\n",
       "    }\n",
       "\n",
       "    .dataframe tbody tr th {\n",
       "        vertical-align: top;\n",
       "    }\n",
       "\n",
       "    .dataframe thead th {\n",
       "        text-align: right;\n",
       "    }\n",
       "</style>\n",
       "<table border=\"1\" class=\"dataframe\">\n",
       "  <thead>\n",
       "    <tr style=\"text-align: right;\">\n",
       "      <th></th>\n",
       "      <th>id</th>\n",
       "      <th>group_id</th>\n",
       "    </tr>\n",
       "  </thead>\n",
       "  <tbody>\n",
       "    <tr>\n",
       "      <th>0</th>\n",
       "      <td>service_nsw_157960380376911u32J00n026T0a22e1</td>\n",
       "      <td>service_nsw_157960380376911u32J00n026T0a22e1</td>\n",
       "    </tr>\n",
       "    <tr>\n",
       "      <th>1</th>\n",
       "      <td>service_nsw_157960380384232a122u02T6301J0en0</td>\n",
       "      <td>service_nsw_157960380384232a122u02T6301J0en0</td>\n",
       "    </tr>\n",
       "    <tr>\n",
       "      <th>2</th>\n",
       "      <td>service_nsw_15796038039098en021006120Ja2T23u</td>\n",
       "      <td>service_nsw_15796038039098en021006120Ja2T23u</td>\n",
       "    </tr>\n",
       "    <tr>\n",
       "      <th>3</th>\n",
       "      <td>service_nsw_15796038039849T210013Ju202n602ea</td>\n",
       "      <td>service_nsw_15796038039849T210013Ju202n602ea</td>\n",
       "    </tr>\n",
       "    <tr>\n",
       "      <th>4</th>\n",
       "      <td>service_nsw_157960380405246a0Tne4J100222102u</td>\n",
       "      <td>service_nsw_157960380405246a0Tne4J100222102u</td>\n",
       "    </tr>\n",
       "  </tbody>\n",
       "</table>\n",
       "</div>"
      ],
      "text/plain": [
       "                                             id  \\\n",
       "0  service_nsw_157960380376911u32J00n026T0a22e1   \n",
       "1  service_nsw_157960380384232a122u02T6301J0en0   \n",
       "2  service_nsw_15796038039098en021006120Ja2T23u   \n",
       "3  service_nsw_15796038039849T210013Ju202n602ea   \n",
       "4  service_nsw_157960380405246a0Tne4J100222102u   \n",
       "\n",
       "                                       group_id  \n",
       "0  service_nsw_157960380376911u32J00n026T0a22e1  \n",
       "1  service_nsw_157960380384232a122u02T6301J0en0  \n",
       "2  service_nsw_15796038039098en021006120Ja2T23u  \n",
       "3  service_nsw_15796038039849T210013Ju202n602ea  \n",
       "4  service_nsw_157960380405246a0Tne4J100222102u  "
      ]
     },
     "execution_count": 5,
     "metadata": {},
     "output_type": "execute_result"
    }
   ],
   "source": [
    "group_df.head()"
   ]
  },
  {
   "cell_type": "markdown",
   "metadata": {},
   "source": [
    "# listGroupDict json"
   ]
  },
  {
   "cell_type": "code",
   "execution_count": 10,
   "metadata": {},
   "outputs": [],
   "source": [
    "listGroupdf = pd.DataFrame(group_df.groupby('group_id')['id'].apply(list))"
   ]
  },
  {
   "cell_type": "code",
   "execution_count": 12,
   "metadata": {},
   "outputs": [
    {
     "data": {
      "text/html": [
       "<div>\n",
       "<style scoped>\n",
       "    .dataframe tbody tr th:only-of-type {\n",
       "        vertical-align: middle;\n",
       "    }\n",
       "\n",
       "    .dataframe tbody tr th {\n",
       "        vertical-align: top;\n",
       "    }\n",
       "\n",
       "    .dataframe thead th {\n",
       "        text-align: right;\n",
       "    }\n",
       "</style>\n",
       "<table border=\"1\" class=\"dataframe\">\n",
       "  <thead>\n",
       "    <tr style=\"text-align: right;\">\n",
       "      <th></th>\n",
       "      <th>id</th>\n",
       "    </tr>\n",
       "    <tr>\n",
       "      <th>group_id</th>\n",
       "      <th></th>\n",
       "    </tr>\n",
       "  </thead>\n",
       "  <tbody>\n",
       "    <tr>\n",
       "      <th>service_nsw_157960380376911u32J00n026T0a22e1</th>\n",
       "      <td>[service_nsw_157960380376911u32J00n026T0a22e1]</td>\n",
       "    </tr>\n",
       "    <tr>\n",
       "      <th>service_nsw_157960380384232a122u02T6301J0en0</th>\n",
       "      <td>[service_nsw_157960380384232a122u02T6301J0en0]</td>\n",
       "    </tr>\n",
       "    <tr>\n",
       "      <th>service_nsw_15796038039098en021006120Ja2T23u</th>\n",
       "      <td>[service_nsw_15796038039098en021006120Ja2T23u]</td>\n",
       "    </tr>\n",
       "    <tr>\n",
       "      <th>service_nsw_15796038039849T210013Ju202n602ea</th>\n",
       "      <td>[service_nsw_15796038039849T210013Ju202n602ea]</td>\n",
       "    </tr>\n",
       "    <tr>\n",
       "      <th>service_nsw_157960380405246a0Tne4J100222102u</th>\n",
       "      <td>[service_nsw_157960380405246a0Tne4J100222102u]</td>\n",
       "    </tr>\n",
       "    <tr>\n",
       "      <th>service_nsw_157960380412230402nJa002126u2eT1</th>\n",
       "      <td>[service_nsw_157960380412230402nJa002126u2eT1]</td>\n",
       "    </tr>\n",
       "    <tr>\n",
       "      <th>service_nsw_15796038041937nu20210040eaJT1262</th>\n",
       "      <td>[service_nsw_15796038041937nu20210040eaJT1262,...</td>\n",
       "    </tr>\n",
       "    <tr>\n",
       "      <th>service_nsw_15796038042598uJ4102nT012020ea62</th>\n",
       "      <td>[service_nsw_15796038042598uJ4102nT012020ea62,...</td>\n",
       "    </tr>\n",
       "    <tr>\n",
       "      <th>service_nsw_1579603804337801u224J000n61a2eT2</th>\n",
       "      <td>[service_nsw_1579603804337801u224J000n61a2eT2]</td>\n",
       "    </tr>\n",
       "    <tr>\n",
       "      <th>service_nsw_15796038044060221eT0022J00un164a</th>\n",
       "      <td>[service_nsw_15796038044060221eT0022J00un164a]</td>\n",
       "    </tr>\n",
       "  </tbody>\n",
       "</table>\n",
       "</div>"
      ],
      "text/plain": [
       "                                                                                             id\n",
       "group_id                                                                                       \n",
       "service_nsw_157960380376911u32J00n026T0a22e1     [service_nsw_157960380376911u32J00n026T0a22e1]\n",
       "service_nsw_157960380384232a122u02T6301J0en0     [service_nsw_157960380384232a122u02T6301J0en0]\n",
       "service_nsw_15796038039098en021006120Ja2T23u     [service_nsw_15796038039098en021006120Ja2T23u]\n",
       "service_nsw_15796038039849T210013Ju202n602ea     [service_nsw_15796038039849T210013Ju202n602ea]\n",
       "service_nsw_157960380405246a0Tne4J100222102u     [service_nsw_157960380405246a0Tne4J100222102u]\n",
       "service_nsw_157960380412230402nJa002126u2eT1     [service_nsw_157960380412230402nJa002126u2eT1]\n",
       "service_nsw_15796038041937nu20210040eaJT1262  [service_nsw_15796038041937nu20210040eaJT1262,...\n",
       "service_nsw_15796038042598uJ4102nT012020ea62  [service_nsw_15796038042598uJ4102nT012020ea62,...\n",
       "service_nsw_1579603804337801u224J000n61a2eT2     [service_nsw_1579603804337801u224J000n61a2eT2]\n",
       "service_nsw_15796038044060221eT0022J00un164a     [service_nsw_15796038044060221eT0022J00un164a]"
      ]
     },
     "execution_count": 12,
     "metadata": {},
     "output_type": "execute_result"
    }
   ],
   "source": [
    "listGroupdf.head(10)"
   ]
  },
  {
   "cell_type": "code",
   "execution_count": 25,
   "metadata": {},
   "outputs": [],
   "source": [
    "listGroupDict = dict(zip(listGroupdf.index,listGroupdf.id))\n",
    "listGroupDict = [listGroupDict]\n",
    "with open('listGroupDict.json', 'w') as fp:\n",
    "    json.dump(listGroupDict, fp)"
   ]
  },
  {
   "cell_type": "markdown",
   "metadata": {},
   "source": [
    "# groupDict json"
   ]
  },
  {
   "cell_type": "code",
   "execution_count": 22,
   "metadata": {},
   "outputs": [],
   "source": [
    "groupDict = dict(zip(group_df.id,group_df.group_id))\n",
    "groupDict = [groupDict]\n",
    "with open('groupDict.json', 'w') as fp:\n",
    "    json.dump(groupDict, fp)"
   ]
  },
  {
   "cell_type": "code",
   "execution_count": null,
   "metadata": {},
   "outputs": [],
   "source": []
  }
 ],
 "metadata": {
  "kernelspec": {
   "display_name": "Python 3",
   "language": "python",
   "name": "python3"
  },
  "language_info": {
   "codemirror_mode": {
    "name": "ipython",
    "version": 3
   },
   "file_extension": ".py",
   "mimetype": "text/x-python",
   "name": "python",
   "nbconvert_exporter": "python",
   "pygments_lexer": "ipython3",
   "version": "3.6.9"
  }
 },
 "nbformat": 4,
 "nbformat_minor": 2
}
