{
 "cells": [
  {
   "cell_type": "markdown",
   "metadata": {},
   "source": [
    "# Durablility Factor"
   ]
  },
  {
   "cell_type": "code",
   "execution_count": 1,
   "metadata": {},
   "outputs": [],
   "source": [
    "restaurant_name = \"Oscars - Ramee Royal Hotel\"\n",
    "#Time Cafe - Ramee Royal Hotel\n",
    "#Oscars - Ramee Royal Hotel\n",
    "#It's Mirchi - Ramee Royal Hotel\n",
    "\n",
    "#Joe's Crab Shack\n",
    "#Yogurtland"
   ]
  },
  {
   "cell_type": "code",
   "execution_count": 2,
   "metadata": {},
   "outputs": [],
   "source": [
    "import mysql.connector\n",
    "import pandas as pd\n",
    "from datetime import datetime\n",
    "import math\n",
    "from google.cloud import secretmanager\n",
    "\n",
    "PROJECT_ID = 'alpha-274108'\n",
    "\n",
    "def access_secret_version(self,project_id, secret_id, version_id):\n",
    "    \"\"\"\n",
    "    Access the payload for the given secret version if one exists. The version\n",
    "    can be a version number as a string (e.g. \"5\") or an alias (e.g. \"latest\").\n",
    "    \"\"\"\n",
    "    # Create the Secret Manager client.\n",
    "    client = secretmanager.SecretManagerServiceClient()\n",
    "\n",
    "    # Build the resource name of the secret version.\n",
    "    name = client.secret_version_path(project_id, secret_id, version_id)\n",
    "\n",
    "    # Access the secret version.\n",
    "    response = client.access_secret_version(name)\n",
    "    \n",
    "    payload = response.payload.data.decode('UTF-8')\n",
    "    return format(payload)\n",
    "\n",
    "\n",
    "HOSTNAME = access_secret_version(PROJECT_ID, 'CHOST-A', 'latest'),\n",
    "USER = access_secret_version(PROJECT_ID, 'CHOST-A-USER', 'latest'),\n",
    "PASSWORD = access_secret_version(PROJECT_ID, 'CHOST-A-PASS', 'latest'),\n",
    "DATABASE = 'sydney_zomato_database'\n",
    "\n",
    "def dbConnect():\n",
    "    mydb = mysql.connector.connect(\n",
    "        host=HOSTNAME,\n",
    "        user=USER,\n",
    "        passwd=PASSWORD,\n",
    "        database=DATABASE\n",
    "    )\n",
    "\n",
    "    mycursor = mydb.cursor()\n",
    "\n",
    "    return mydb, mycursor"
   ]
  },
  {
   "cell_type": "code",
   "execution_count": 3,
   "metadata": {},
   "outputs": [],
   "source": [
    "user_std = 601.2968311833278\n",
    "user_avg = 91.28872987274288"
   ]
  },
  {
   "cell_type": "code",
   "execution_count": 4,
   "metadata": {},
   "outputs": [],
   "source": [
    "review_std = 1.718087813739413\n",
    "review_avg = 0.8862201301365501"
   ]
  },
  {
   "cell_type": "code",
   "execution_count": 5,
   "metadata": {
    "scrolled": true
   },
   "outputs": [],
   "source": [
    "mydb, mycursor = dbConnect()\n",
    "\n",
    "# select id,entity_id and website url from zomato_dubai table based on the condition of is_crawled\n",
    "sql = \"SELECT r.helpful_count,r.reviewed_on,r.rating,u.follower_count FROM reviews r, users u WHERE r.entity_id IN (SELECT id FROM entity WHERE entity_id IN (SELECT id FROM service_entity WHERE name = %s)) AND u.id = r.user_id\"\n",
    "val = (restaurant_name,)\n",
    "mycursor.execute(sql, val)\n",
    "\n",
    "# create a dataframe from result of the previou sql query\n",
    "df = pd.DataFrame(mycursor.fetchall())\n",
    "\n",
    "df.columns = ['helpful_count','reviewed_on','rating','follower_count']\n",
    "\n",
    "    "
   ]
  },
  {
   "cell_type": "code",
   "execution_count": 6,
   "metadata": {},
   "outputs": [],
   "source": [
    "sql2 = \"SELECT es.positive_reviews_count, es.rating_count FROM entity_summary es WHERE es.entity_id IN (SELECT id FROM entity WHERE entity_id IN (SELECT id FROM service_entity WHERE name = %s))\"\n",
    "val2 = (restaurant_name,)\n",
    "mycursor.execute(sql2,val2)\n",
    "\n",
    "pos_rating_count_df = pd.DataFrame(mycursor.fetchall())\n",
    "mycursor.close()\n",
    "\n",
    "pos_rating_count_df.columns = ['positive_reviews_count','rating_count']\n",
    "\n",
    "pos = int(pos_rating_count_df.loc[0,'positive_reviews_count'])\n",
    "n =  pos_rating_count_df.loc[0,'rating_count']"
   ]
  },
  {
   "cell_type": "code",
   "execution_count": 7,
   "metadata": {},
   "outputs": [
    {
     "name": "stdout",
     "output_type": "stream",
     "text": [
      "Positive Rating Count :  75\n",
      "Total Rating Count :  75\n"
     ]
    }
   ],
   "source": [
    "print(\"Positive Rating Count : \",pos)\n",
    "print(\"Total Rating Count : \",n)"
   ]
  },
  {
   "cell_type": "code",
   "execution_count": 8,
   "metadata": {},
   "outputs": [
    {
     "data": {
      "text/plain": [
       "numpy.int64"
      ]
     },
     "execution_count": 8,
     "metadata": {},
     "output_type": "execute_result"
    }
   ],
   "source": [
    "type(n)"
   ]
  },
  {
   "cell_type": "code",
   "execution_count": 9,
   "metadata": {},
   "outputs": [],
   "source": [
    "def convertMS(ms):\n",
    "    s = math.floor(ms / 1000)\n",
    "    m = math.floor(s / 60)\n",
    "    s = s % 60\n",
    "    h = math.floor(m / 60)\n",
    "    m = m % 60\n",
    "    d = math.floor(h / 24)\n",
    "    h = h % 24\n",
    "    return d\n",
    "\n"
   ]
  },
  {
   "cell_type": "code",
   "execution_count": 10,
   "metadata": {},
   "outputs": [],
   "source": [
    "def calculateHelpfulnessScoreUser(follower_count):\n",
    "    helpfullnessScore = 1\n",
    "    if ((follower_count - user_avg) > 0):\n",
    "        helpfullnessScore = 1 + ((follower_count - user_avg) / user_std)\n",
    "    \n",
    "    return helpfullnessScore\n"
   ]
  },
  {
   "cell_type": "code",
   "execution_count": 11,
   "metadata": {},
   "outputs": [],
   "source": [
    "def calculateHelpfulnessScoreReview(helpfulCount):\n",
    "    helpfullnessScore = 1\n",
    "    if ((helpfulCount - review_avg) > 0):\n",
    "        helpfullnessScore = 1 + ((helpfulCount - review_avg) / review_std)\n",
    "    \n",
    "    return helpfullnessScore"
   ]
  },
  {
   "cell_type": "code",
   "execution_count": 12,
   "metadata": {},
   "outputs": [],
   "source": [
    "def calculateDurability(reviewed_on):\n",
    "    current_date = datetime.strptime(\"2019-07-12 13:27:53\",'%Y-%m-%d %H:%M:%S').timestamp() * 1000\n",
    "    dt_obj = datetime.strptime(reviewed_on,'%Y-%m-%d %H:%M:%S')\n",
    "    reviewed_date = dt_obj.timestamp() * 1000\n",
    "    diff = current_date - reviewed_date\n",
    "    days = convertMS(diff)\n",
    "    return 1 - math.exp(-math.exp(-0.045 * (math.ceil(days / 7) - 65)))\n",
    "    "
   ]
  },
  {
   "cell_type": "code",
   "execution_count": 13,
   "metadata": {},
   "outputs": [],
   "source": [
    "def wilson_score(pos, n):\n",
    "    if (n == 0):\n",
    "        return 0\n",
    "    # Corresponds to an 99.975% confidence on the entities with least amount of reviews.\n",
    "    z = 3.6622599308876151\n",
    "    phat = 1 * pos / n\n",
    "    return (phat + z*z/(2*n) - z * math.sqrt((phat*(1-phat)+z*z/(4*n))/n))/(1+z*z/n)"
   ]
  },
  {
   "cell_type": "code",
   "execution_count": 14,
   "metadata": {},
   "outputs": [
    {
     "name": "stdout",
     "output_type": "stream",
     "text": [
      "Weight Score :  4.915842482010996\n",
      "Wilson Score :  0.8482997174606037\n",
      "Global Rank :  4.170107788570761\n"
     ]
    }
   ],
   "source": [
    "sum_dhr = 0\n",
    "sum_dhrs = 0\n",
    "for row in range(df.shape[0]):\n",
    "    sum_dhr += calculateHelpfulnessScoreUser(int(df.loc[row,'follower_count']))*calculateHelpfulnessScoreUser(int(df.loc[row,'helpful_count']))*calculateDurability(df.loc[row,'reviewed_on'])\n",
    "    sum_dhrs += calculateHelpfulnessScoreUser(int(df.loc[row,'follower_count']))*calculateHelpfulnessScoreUser(int(df.loc[row,'helpful_count']))*calculateDurability(df.loc[row,'reviewed_on'])*float(df.loc[row,'rating'])\n",
    "    \n",
    "entity_score_weighted = sum_dhrs/sum_dhr\n",
    "global_rank = (sum_dhrs/sum_dhr)*wilson_score(pos,n)\n",
    "\n",
    "print(\"Weight Score : \", entity_score_weighted)\n",
    "print(\"Wilson Score : \",wilson_score(pos,n))\n",
    "print(\"Global Rank : \", global_rank)\n"
   ]
  },
  {
   "cell_type": "code",
   "execution_count": null,
   "metadata": {},
   "outputs": [],
   "source": []
  },
  {
   "cell_type": "code",
   "execution_count": 15,
   "metadata": {},
   "outputs": [],
   "source": [
    "reviewed_date_list = df['reviewed_on'].tolist()\n",
    "current_date = datetime.strptime(\"2019-07-12 13:27:53\",'%Y-%m-%d %H:%M:%S').timestamp() * 1000\n",
    "x = []\n",
    "for item in reviewed_date_list:\n",
    "    dt_obj = datetime.strptime(item,'%Y-%m-%d %H:%M:%S')\n",
    "    reviewed_date = dt_obj.timestamp() * 1000\n",
    "    diff = current_date - reviewed_date\n",
    "    x.append(convertMS(diff))\n",
    "x.sort()   "
   ]
  },
  {
   "cell_type": "code",
   "execution_count": 98,
   "metadata": {},
   "outputs": [],
   "source": [
    "x = np.linspace(30,730,105)"
   ]
  },
  {
   "cell_type": "code",
   "execution_count": 99,
   "metadata": {},
   "outputs": [],
   "source": [
    "#x"
   ]
  },
  {
   "cell_type": "code",
   "execution_count": 100,
   "metadata": {},
   "outputs": [],
   "source": [
    "y = []\n",
    "for item in x:\n",
    "    y.append(1 - math.exp(-math.exp(-0.1 * (math.ceil(item / 5) - 50))))"
   ]
  },
  {
   "cell_type": "code",
   "execution_count": 101,
   "metadata": {},
   "outputs": [
    {
     "data": {
      "image/png": "[encoded data removed]",
      "text/plain": [
       "<Figure size 432x288 with 1 Axes>"
      ]
     },
     "metadata": {
      "needs_background": "light"
     },
     "output_type": "display_data"
    }
   ],
   "source": [
    "plt.plot(x, y)\n",
    "plt.grid()\n",
    "plt.xlabel('No of Days')\n",
    "plt.ylabel('Durability Score')\n",
    "plt.show()"
   ]
  },
  {
   "cell_type": "code",
   "execution_count": 20,
   "metadata": {
    "scrolled": false
   },
   "outputs": [
    {
     "data": {
      "text/plain": [
       "<Figure size 800x800 with 1 Axes>"
      ]
     },
     "metadata": {},
     "output_type": "display_data"
    }
   ],
   "source": [
    "import numpy as np\n",
    "import matplotlib.pyplot as plt\n",
    "from matplotlib.ticker import MultipleLocator\n",
    "\n",
    "         \n",
    "fig = plt.figure(figsize=(8,8))\n",
    "ax1 = fig.add_subplot(1,1,1)\n",
    "spacing = 50 # This can be your user specified spacing. \n",
    "minorLocator = MultipleLocator(spacing)\n",
    "#ax1.plot(9 * np.random.rand(10))\n",
    "ax1.plot(y)\n",
    "# Set minor tick locations.\n",
    "ax1.yaxis.set_minor_locator(minorLocator)\n",
    "ax1.xaxis.set_minor_locator(minorLocator)\n",
    "# Set grid to use minor tick locations. \n",
    "ax1.grid(which = 'minor')\n",
    "\n",
    "\n",
    "# plt.plot(x, y)\n",
    "# plt.grid( linestyle='-', linewidth=2, line)\n",
    "plt.xlabel('No of Days')\n",
    "plt.ylabel('Durability Score')\n",
    "plt.show()"
   ]
  },
  {
   "cell_type": "code",
   "execution_count": null,
   "metadata": {},
   "outputs": [],
   "source": [
    "\n",
    "users_count = np.linspace(1,df.shape[0],df.shape[0])     \n",
    "follower_count_list = df['follower_count'].tolist()\n",
    "user_rank = []\n",
    "for item in follower_count_list:\n",
    "    user_rank.append(calculateHelpfulnessScoreUser(float(item)))\n",
    "plt.figure()\n",
    "plt.plot(users_count, user_rank)\n",
    "plt.grid()\n",
    "plt.xlabel('User Index')\n",
    "plt.ylabel(\"Helpfulness of Users\")\n",
    "plt.show()\n"
   ]
  },
  {
   "cell_type": "code",
   "execution_count": 18,
   "metadata": {},
   "outputs": [
    {
     "ename": "NameError",
     "evalue": "name 'np' is not defined",
     "output_type": "error",
     "traceback": [
      "\u001b[0;31m---------------------------------------------------------------------------\u001b[0m",
      "\u001b[0;31mNameError\u001b[0m                                 Traceback (most recent call last)",
      "\u001b[0;32m<ipython-input-18-7f439a921ca7>\u001b[0m in \u001b[0;36m<module>\u001b[0;34m\u001b[0m\n\u001b[1;32m      1\u001b[0m \u001b[0;34m\u001b[0m\u001b[0m\n\u001b[0;32m----> 2\u001b[0;31m \u001b[0mreview_count\u001b[0m \u001b[0;34m=\u001b[0m \u001b[0mnp\u001b[0m\u001b[0;34m.\u001b[0m\u001b[0mlinspace\u001b[0m\u001b[0;34m(\u001b[0m\u001b[0;36m1\u001b[0m\u001b[0;34m,\u001b[0m\u001b[0mdf\u001b[0m\u001b[0;34m.\u001b[0m\u001b[0mshape\u001b[0m\u001b[0;34m[\u001b[0m\u001b[0;36m0\u001b[0m\u001b[0;34m]\u001b[0m\u001b[0;34m,\u001b[0m\u001b[0mdf\u001b[0m\u001b[0;34m.\u001b[0m\u001b[0mshape\u001b[0m\u001b[0;34m[\u001b[0m\u001b[0;36m0\u001b[0m\u001b[0;34m]\u001b[0m\u001b[0;34m)\u001b[0m\u001b[0;34m\u001b[0m\u001b[0;34m\u001b[0m\u001b[0m\n\u001b[0m\u001b[1;32m      3\u001b[0m \u001b[0mhelpful_count_list\u001b[0m \u001b[0;34m=\u001b[0m \u001b[0mdf\u001b[0m\u001b[0;34m[\u001b[0m\u001b[0;34m'helpful_count'\u001b[0m\u001b[0;34m]\u001b[0m\u001b[0;34m.\u001b[0m\u001b[0mtolist\u001b[0m\u001b[0;34m(\u001b[0m\u001b[0;34m)\u001b[0m\u001b[0;34m\u001b[0m\u001b[0;34m\u001b[0m\u001b[0m\n\u001b[1;32m      4\u001b[0m \u001b[0mreview_rank\u001b[0m \u001b[0;34m=\u001b[0m \u001b[0;34m[\u001b[0m\u001b[0;34m]\u001b[0m\u001b[0;34m\u001b[0m\u001b[0;34m\u001b[0m\u001b[0m\n\u001b[1;32m      5\u001b[0m \u001b[0;32mfor\u001b[0m \u001b[0mitem\u001b[0m \u001b[0;32min\u001b[0m \u001b[0mhelpful_count_list\u001b[0m\u001b[0;34m:\u001b[0m\u001b[0;34m\u001b[0m\u001b[0;34m\u001b[0m\u001b[0m\n",
      "\u001b[0;31mNameError\u001b[0m: name 'np' is not defined"
     ]
    }
   ],
   "source": [
    "\n",
    "review_count = np.linspace(1,df.shape[0],df.shape[0])     \n",
    "helpful_count_list = df['helpful_count'].tolist()\n",
    "review_rank = []\n",
    "for item in helpful_count_list:\n",
    "    review_rank.append(calculateHelpfulnessScoreReview(float(item)))\n",
    "plt.figure()\n",
    "plt.plot(review_count, review_rank)\n",
    "plt.grid()\n",
    "plt.xlabel('Review Index')\n",
    "plt.ylabel(\"Helpfulness of Review\")\n",
    "plt.show()\n"
   ]
  },
  {
   "cell_type": "code",
   "execution_count": null,
   "metadata": {},
   "outputs": [],
   "source": []
  },
  {
   "cell_type": "code",
   "execution_count": null,
   "metadata": {},
   "outputs": [],
   "source": []
  }
 ],
 "metadata": {
  "kernelspec": {
   "display_name": "Python 3",
   "language": "python",
   "name": "python3"
  },
  "language_info": {
   "codemirror_mode": {
    "name": "ipython",
    "version": 3
   },
   "file_extension": ".py",
   "mimetype": "text/x-python",
   "name": "python",
   "nbconvert_exporter": "python",
   "pygments_lexer": "ipython3",
   "version": "3.6.9"
  }
 },
 "nbformat": 4,
 "nbformat_minor": 2
}
